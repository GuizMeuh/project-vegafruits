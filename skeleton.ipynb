{
 "cells": [
  {
   "cell_type": "markdown",
   "id": "4aa51bc6",
   "metadata": {},
   "source": [
    "**format_utils.py**"
   ]
  },
  {
   "cell_type": "code",
   "execution_count": null,
   "id": "7245774b",
   "metadata": {},
   "outputs": [],
   "source": [
    "import pandas as pd\n",
    "from datetime import datetime\n",
    "\n",
    "def format_timestamp_for_mysql(iso_timestamp):\n",
    "    # Reformate en string compatible MySQL\n",
    "    dt = datetime.strptime(iso_timestamp, \"%Y-%m-%dT%H:%M:%S.%fZ\")\n",
    "    return dt.strftime(\"%Y-%m-%d %H:%M:%S\")\n",
    "\n",
    "def json_to_df(data):\n",
    "    # Extraction du nom de l'automate, et de ses différents tags\n",
    "    modbus_data = data[\"tags\"][\"modbus_tcp_master\"]\n",
    "    device_name = list(modbus_data.keys())[0]\n",
    "    entries = modbus_data[device_name]\n",
    "\n",
    "    # Création du DF\n",
    "    rows = []\n",
    "\n",
    "    for tag_name, tag_content in entries.items():\n",
    "        for value_entry in tag_content[\"values\"]:\n",
    "            rows.append({\n",
    "                \"table_name\": tag_name,\n",
    "                \"timestamp\": format_timestamp_for_mysql(value_entry[\"updateTimeStamp\"]),\n",
    "                \"value\": value_entry[\"value\"]\n",
    "            })\n",
    "\n",
    "    df = pd.DataFrame(rows)\n",
    "    return df"
   ]
  },
  {
   "cell_type": "markdown",
   "id": "c462f091",
   "metadata": {},
   "source": [
    "**sql_utils.py**"
   ]
  },
  {
   "cell_type": "code",
   "execution_count": null,
   "id": "db5ab5ec",
   "metadata": {},
   "outputs": [],
   "source": [
    "import mysql.connector\n",
    "import pandas as pd\n",
    "import os\n",
    "from dotenv import load_dotenv\n",
    "\n",
    "load_dotenv()\n",
    "\n",
    "def connect_db(db_name):\n",
    "    return mysql.connector.connect(\n",
    "        host=\"localhost\",      \n",
    "        user=\"root\",          \n",
    "        password=os.getenv(\"PASSWORD\", \"\"), \n",
    "        database=db_name,\n",
    "    )\n",
    "\n",
    "\n",
    "def insert_data_to_db(df, cursor, connection):\n",
    "    for _, row in df.iterrows():\n",
    "        timestamp = row[\"timestamp\"]\n",
    "        value = row[\"value\"]\n",
    "        table_name = row[\"table_name\"]\n",
    "        cursor.execute(\n",
    "            f\"INSERT INTO {table_name} (timestamp, value) VALUES (%s, %s)\",\n",
    "            (timestamp, value)\n",
    "        )\n",
    "    connection.commit()\n"
   ]
  },
  {
   "cell_type": "markdown",
   "id": "07284b11",
   "metadata": {},
   "source": [
    "**main.py**"
   ]
  },
  {
   "cell_type": "code",
   "execution_count": null,
   "id": "1b5a23de",
   "metadata": {},
   "outputs": [],
   "source": [
    "import paho.mqtt.client as mqtt\n",
    "import pandas as pd\n",
    "import json\n",
    "\n",
    "# Liste des topics mqtt auxquels on va s'abonner (il y en aura d'autres)\n",
    "topics = [(\"16_ISHIDA\", 0), (\"14_CRYOD\", 0)]\n",
    "dataframes = {}\n",
    "\n",
    "# Fonction appelée lorsqu'on se connecte au broker\n",
    "def on_connect(client, rc):\n",
    "    print(\"Connecté avec le code :\", rc)\n",
    "    client.subscribe(topics)\n",
    "\n",
    "# Fonction appelée à la réception d’un message\n",
    "def on_message(msg):\n",
    "    topic = msg.topic\n",
    "    payload = msg.payload.decode()\n",
    "    print(f\"Message reçu - Topic: {topic}, Payload: {payload}\")\n",
    "    \n",
    "    payload = json.loads(payload)\n",
    "    df = json_to_df(payload)\n",
    "    \n",
    "    # Connexion et insertion dans la db\n",
    "    db = connect_db(topic)\n",
    "    cursor = db.cursor()\n",
    "    insert_data_to_db(df, cursor, db)\n",
    "\n",
    "    cursor.close()\n",
    "    db.close()\n",
    "\n",
    "# Déf d'un client mqtt\n",
    "client = mqtt.Client()\n",
    "client.on_connect = on_connect\n",
    "client.on_message = on_message\n",
    "\n",
    "# Connexion au broker local\n",
    "client.connect(\"localhost\", 1883, 60)\n",
    "\n",
    "# Boucle réseau pour écouter les messages\n",
    "client.loop_forever()\n"
   ]
  }
 ],
 "metadata": {
  "kernelspec": {
   "display_name": "Python 3",
   "language": "python",
   "name": "python3"
  },
  "language_info": {
   "codemirror_mode": {
    "name": "ipython",
    "version": 3
   },
   "file_extension": ".py",
   "mimetype": "text/x-python",
   "name": "python",
   "nbconvert_exporter": "python",
   "pygments_lexer": "ipython3",
   "version": "3.13.3"
  }
 },
 "nbformat": 4,
 "nbformat_minor": 5
}
